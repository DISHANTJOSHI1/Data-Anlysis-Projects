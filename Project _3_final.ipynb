{
 "cells": [
  {
   "cell_type": "markdown",
   "id": "2e85f67b",
   "metadata": {},
   "source": [
    "Team:\n",
    "1. Dishant Fapot\n",
    "2. Parth Zaveri\n",
    "\n",
    "Dataset 1\n",
    "https://www.kaggle.com/jayrav13/unemployment-by-county-us\n",
    "Unemployment rate by County\n",
    "(885549,5) with size 34.1 MB\t\n",
    "Dataset 2\n",
    "https://www.kaggle.com/stevepalley/2016uspresidentialvotebycounty\n",
    "2016 US Presidential vote election\n",
    "(18476,9) with 1.6 MB\n",
    "Dataset 3\n",
    "https://www.kaggle.com/alifarukyucel/minimum-wage-by-state/data\n",
    "(2751,9) with 170 KB\n",
    "Hypothesis\n",
    "We will merge both the dataset and find if US elections has any impact or relation with the unemployment rate in the country.\n"
   ]
  },
  {
   "cell_type": "markdown",
   "id": "944fbf9c",
   "metadata": {},
   "source": [
    "Import all the required libraries"
   ]
  },
  {
   "cell_type": "code",
   "execution_count": 1,
   "id": "41aefb2b",
   "metadata": {},
   "outputs": [],
   "source": [
    "import pandas as pd \n",
    "import numpy as np\n",
    "import matplotlib.pyplot as plt\n",
    "import seaborn as sns\n",
    "%matplotlib inline           "
   ]
  },
  {
   "cell_type": "markdown",
   "id": "d56d7858",
   "metadata": {},
   "source": [
    "Analysis of 2016 presidential election"
   ]
  },
  {
   "cell_type": "code",
   "execution_count": 47,
   "id": "cd3c4116",
   "metadata": {},
   "outputs": [
    {
     "data": {
      "text/html": [
       "<div>\n",
       "<style scoped>\n",
       "    .dataframe tbody tr th:only-of-type {\n",
       "        vertical-align: middle;\n",
       "    }\n",
       "\n",
       "    .dataframe tbody tr th {\n",
       "        vertical-align: top;\n",
       "    }\n",
       "\n",
       "    .dataframe thead th {\n",
       "        text-align: right;\n",
       "    }\n",
       "</style>\n",
       "<table border=\"1\" class=\"dataframe\">\n",
       "  <thead>\n",
       "    <tr style=\"text-align: right;\">\n",
       "      <th></th>\n",
       "      <th>county</th>\n",
       "      <th>fips</th>\n",
       "      <th>cand</th>\n",
       "      <th>st</th>\n",
       "      <th>pct_report</th>\n",
       "      <th>votes</th>\n",
       "      <th>total_votes</th>\n",
       "      <th>pct</th>\n",
       "      <th>lead</th>\n",
       "    </tr>\n",
       "  </thead>\n",
       "  <tbody>\n",
       "    <tr>\n",
       "      <th>0</th>\n",
       "      <td>NaN</td>\n",
       "      <td>US</td>\n",
       "      <td>Donald Trump</td>\n",
       "      <td>US</td>\n",
       "      <td>0.9951</td>\n",
       "      <td>60350241.0</td>\n",
       "      <td>127592176.0</td>\n",
       "      <td>0.472993</td>\n",
       "      <td>Donald Trump</td>\n",
       "    </tr>\n",
       "    <tr>\n",
       "      <th>1</th>\n",
       "      <td>NaN</td>\n",
       "      <td>US</td>\n",
       "      <td>Hillary Clinton</td>\n",
       "      <td>US</td>\n",
       "      <td>0.9951</td>\n",
       "      <td>60981118.0</td>\n",
       "      <td>127592176.0</td>\n",
       "      <td>0.477938</td>\n",
       "      <td>Donald Trump</td>\n",
       "    </tr>\n",
       "    <tr>\n",
       "      <th>2</th>\n",
       "      <td>NaN</td>\n",
       "      <td>US</td>\n",
       "      <td>Gary Johnson</td>\n",
       "      <td>US</td>\n",
       "      <td>0.9951</td>\n",
       "      <td>4164589.0</td>\n",
       "      <td>127592176.0</td>\n",
       "      <td>0.032640</td>\n",
       "      <td>Donald Trump</td>\n",
       "    </tr>\n",
       "    <tr>\n",
       "      <th>3</th>\n",
       "      <td>NaN</td>\n",
       "      <td>US</td>\n",
       "      <td>Jill Stein</td>\n",
       "      <td>US</td>\n",
       "      <td>0.9951</td>\n",
       "      <td>1255968.0</td>\n",
       "      <td>127592176.0</td>\n",
       "      <td>0.009844</td>\n",
       "      <td>Donald Trump</td>\n",
       "    </tr>\n",
       "    <tr>\n",
       "      <th>4</th>\n",
       "      <td>NaN</td>\n",
       "      <td>US</td>\n",
       "      <td>Evan McMullin</td>\n",
       "      <td>US</td>\n",
       "      <td>0.9951</td>\n",
       "      <td>451636.0</td>\n",
       "      <td>127592176.0</td>\n",
       "      <td>0.003540</td>\n",
       "      <td>Donald Trump</td>\n",
       "    </tr>\n",
       "  </tbody>\n",
       "</table>\n",
       "</div>"
      ],
      "text/plain": [
       "  county fips             cand  st  pct_report       votes  total_votes  \\\n",
       "0    NaN   US     Donald Trump  US      0.9951  60350241.0  127592176.0   \n",
       "1    NaN   US  Hillary Clinton  US      0.9951  60981118.0  127592176.0   \n",
       "2    NaN   US     Gary Johnson  US      0.9951   4164589.0  127592176.0   \n",
       "3    NaN   US       Jill Stein  US      0.9951   1255968.0  127592176.0   \n",
       "4    NaN   US    Evan McMullin  US      0.9951    451636.0  127592176.0   \n",
       "\n",
       "        pct          lead  \n",
       "0  0.472993  Donald Trump  \n",
       "1  0.477938  Donald Trump  \n",
       "2  0.032640  Donald Trump  \n",
       "3  0.009844  Donald Trump  \n",
       "4  0.003540  Donald Trump  "
      ]
     },
     "execution_count": 47,
     "metadata": {},
     "output_type": "execute_result"
    }
   ],
   "source": [
    "election = pd.read_csv('./pres16results.csv') #read the data\n",
    "election.head()"
   ]
  },
  {
   "cell_type": "code",
   "execution_count": 4,
   "id": "f8a9c265",
   "metadata": {},
   "outputs": [
    {
     "data": {
      "text/plain": [
       "(18475, 9)"
      ]
     },
     "execution_count": 4,
     "metadata": {},
     "output_type": "execute_result"
    }
   ],
   "source": [
    "election.shape #shape of the data"
   ]
  },
  {
   "cell_type": "code",
   "execution_count": 5,
   "id": "c7c7180d",
   "metadata": {},
   "outputs": [
    {
     "data": {
      "text/plain": [
       "county         344\n",
       "fips             0\n",
       "cand           124\n",
       "st             124\n",
       "pct_report     124\n",
       "votes          124\n",
       "total_votes    124\n",
       "pct            124\n",
       "lead           124\n",
       "dtype: int64"
      ]
     },
     "execution_count": 5,
     "metadata": {},
     "output_type": "execute_result"
    }
   ],
   "source": [
    "election.isnull().sum() #number of nulls in individual column"
   ]
  },
  {
   "cell_type": "code",
   "execution_count": 6,
   "id": "d45d6aa2",
   "metadata": {},
   "outputs": [
    {
     "data": {
      "text/plain": [
       "<AxesSubplot:>"
      ]
     },
     "execution_count": 6,
     "metadata": {},
     "output_type": "execute_result"
    },
    {
     "data": {
      "image/png": "[encoded data removed]",
      "text/plain": [
       "<Figure size 432x288 with 2 Axes>"
      ]
     },
     "metadata": {
      "needs_background": "light"
     },
     "output_type": "display_data"
    }
   ],
   "source": [
    " sns.heatmap(election.isnull(),yticklabels=False) #heatmap to showing nulls "
   ]
  },
  {
   "cell_type": "code",
   "execution_count": 7,
   "id": "d6e5cca3",
   "metadata": {},
   "outputs": [],
   "source": [
    "election.dropna(inplace = True) #droping null values from the dataset"
   ]
  },
  {
   "cell_type": "code",
   "execution_count": 8,
   "id": "d60083e6",
   "metadata": {},
   "outputs": [
    {
     "data": {
      "text/plain": [
       "32"
      ]
     },
     "execution_count": 8,
     "metadata": {},
     "output_type": "execute_result"
    }
   ],
   "source": [
    "election['cand'].nunique() #Total number of condidates for 2016 presidential election"
   ]
  },
  {
   "cell_type": "code",
   "execution_count": 9,
   "id": "262fc607",
   "metadata": {},
   "outputs": [
    {
     "data": {
      "text/plain": [
       "array(['Hillary Clinton', 'Donald Trump'], dtype=object)"
      ]
     },
     "execution_count": 9,
     "metadata": {},
     "output_type": "execute_result"
    }
   ],
   "source": [
    "election['lead'].unique() #Lead candidates"
   ]
  },
  {
   "cell_type": "markdown",
   "id": "a542ed5e",
   "metadata": {},
   "source": [
    "countplot to get candidate with highest winning counties"
   ]
  },
  {
   "cell_type": "code",
   "execution_count": 10,
   "id": "becad0bc",
   "metadata": {},
   "outputs": [
    {
     "name": "stderr",
     "output_type": "stream",
     "text": [
      "C:\\Users\\Dishant\\AppData\\Local\\Programs\\Python\\Python39\\lib\\site-packages\\seaborn\\_decorators.py:36: FutureWarning: Pass the following variable as a keyword arg: x. From version 0.12, the only valid positional argument will be `data`, and passing other arguments without an explicit keyword will result in an error or misinterpretation.\n",
      "  warnings.warn(\n"
     ]
    },
    {
     "data": {
      "image/png": "[encoded data removed]",
      "text/plain": [
       "<Figure size 1152x360 with 1 Axes>"
      ]
     },
     "metadata": {
      "needs_background": "light"
     },
     "output_type": "display_data"
    }
   ],
   "source": [
    "plt.subplots(figsize=(16,5))\n",
    "sns.countplot('cand',data=election)\n",
    "plt.xticks(rotation=90) # to rotate the xPoints by 90 degrees\n",
    "plt.title('highest count')\n",
    "plt.show()"
   ]
  },
  {
   "cell_type": "markdown",
   "id": "88a1f2b4",
   "metadata": {},
   "source": [
    "states with most voting"
   ]
  },
  {
   "cell_type": "code",
   "execution_count": 11,
   "id": "d3761054",
   "metadata": {},
   "outputs": [
    {
     "data": {
      "text/plain": [
       "Text(0.5, 1.0, 'states with most voting')"
      ]
     },
     "execution_count": 11,
     "metadata": {},
     "output_type": "execute_result"
    },
    {
     "data": {
      "image/png": "[encoded data removed]",
      "text/plain": [
       "<Figure size 936x576 with 1 Axes>"
      ]
     },
     "metadata": {
      "needs_background": "light"
     },
     "output_type": "display_data"
    }
   ],
   "source": [
    "fig = plt.figure(figsize=(13, 8))\n",
    "sns.set(font_scale=0.8) #for axis points fontsize\n",
    "year = sns.countplot(y='st', data=election)\n",
    "year.set_yticklabels(year.get_yticklabels(), rotation=17)\n",
    "plt.ylabel('state', fontsize=16)\n",
    "plt.xlabel('Count', fontsize=12)\n",
    "plt.title('states with most voting', fontsize=12)"
   ]
  },
  {
   "cell_type": "markdown",
   "id": "1a452145",
   "metadata": {},
   "source": [
    "Comparing leads of most voted state i.e. colorado"
   ]
  },
  {
   "cell_type": "code",
   "execution_count": 48,
   "id": "dcf8e92e",
   "metadata": {},
   "outputs": [
    {
     "name": "stdout",
     "output_type": "stream",
     "text": [
      "Number of Counties Trump Lead in CO :  902\n",
      "Number of County Hillary Clinton in CO:  506\n"
     ]
    }
   ],
   "source": [
    "CO_trump = sum(election[(election['st']=='CO') & (election['lead']==\"Donald Trump\")].value_counts())\n",
    "print('Number of Counties Trump Lead in CO : ',CO_trump)\n",
    "CO_clinton =  sum(election[(election['st']=='CO') & (election['lead']==\"Hillary Clinton\")].value_counts())\n",
    "print('Number of County Hillary Clinton in CO: ',CO_clinton)"
   ]
  },
  {
   "cell_type": "markdown",
   "id": "e39cbae8",
   "metadata": {},
   "source": [
    "Overall lead of the two leads"
   ]
  },
  {
   "cell_type": "code",
   "execution_count": 13,
   "id": "94aa5b3a",
   "metadata": {},
   "outputs": [
    {
     "data": {
      "text/plain": [
       "<AxesSubplot:xlabel='lead', ylabel='count'>"
      ]
     },
     "execution_count": 13,
     "metadata": {},
     "output_type": "execute_result"
    },
    {
     "data": {
      "image/png": "[encoded data removed]",
      "text/plain": [
       "<Figure size 432x288 with 1 Axes>"
      ]
     },
     "metadata": {},
     "output_type": "display_data"
    }
   ],
   "source": [
    "sns.countplot(x='lead',data=election)"
   ]
  },
  {
   "cell_type": "markdown",
   "id": "82529a40",
   "metadata": {},
   "source": [
    "Analysis of unemployment rate in United States by County"
   ]
  },
  {
   "cell_type": "code",
   "execution_count": 2,
   "id": "0ff40138",
   "metadata": {},
   "outputs": [
    {
     "data": {
      "text/html": [
       "<div>\n",
       "<style scoped>\n",
       "    .dataframe tbody tr th:only-of-type {\n",
       "        vertical-align: middle;\n",
       "    }\n",
       "\n",
       "    .dataframe tbody tr th {\n",
       "        vertical-align: top;\n",
       "    }\n",
       "\n",
       "    .dataframe thead th {\n",
       "        text-align: right;\n",
       "    }\n",
       "</style>\n",
       "<table border=\"1\" class=\"dataframe\">\n",
       "  <thead>\n",
       "    <tr style=\"text-align: right;\">\n",
       "      <th></th>\n",
       "      <th>Year</th>\n",
       "      <th>Month</th>\n",
       "      <th>State</th>\n",
       "      <th>County</th>\n",
       "      <th>Rate</th>\n",
       "    </tr>\n",
       "  </thead>\n",
       "  <tbody>\n",
       "    <tr>\n",
       "      <th>0</th>\n",
       "      <td>2015</td>\n",
       "      <td>February</td>\n",
       "      <td>Mississippi</td>\n",
       "      <td>Newton County</td>\n",
       "      <td>6.1</td>\n",
       "    </tr>\n",
       "    <tr>\n",
       "      <th>1</th>\n",
       "      <td>2015</td>\n",
       "      <td>February</td>\n",
       "      <td>Mississippi</td>\n",
       "      <td>Panola County</td>\n",
       "      <td>9.4</td>\n",
       "    </tr>\n",
       "    <tr>\n",
       "      <th>2</th>\n",
       "      <td>2015</td>\n",
       "      <td>February</td>\n",
       "      <td>Mississippi</td>\n",
       "      <td>Monroe County</td>\n",
       "      <td>7.9</td>\n",
       "    </tr>\n",
       "    <tr>\n",
       "      <th>3</th>\n",
       "      <td>2015</td>\n",
       "      <td>February</td>\n",
       "      <td>Mississippi</td>\n",
       "      <td>Hinds County</td>\n",
       "      <td>6.1</td>\n",
       "    </tr>\n",
       "    <tr>\n",
       "      <th>4</th>\n",
       "      <td>2015</td>\n",
       "      <td>February</td>\n",
       "      <td>Mississippi</td>\n",
       "      <td>Kemper County</td>\n",
       "      <td>10.6</td>\n",
       "    </tr>\n",
       "  </tbody>\n",
       "</table>\n",
       "</div>"
      ],
      "text/plain": [
       "   Year     Month        State         County  Rate\n",
       "0  2015  February  Mississippi  Newton County   6.1\n",
       "1  2015  February  Mississippi  Panola County   9.4\n",
       "2  2015  February  Mississippi  Monroe County   7.9\n",
       "3  2015  February  Mississippi   Hinds County   6.1\n",
       "4  2015  February  Mississippi  Kemper County  10.6"
      ]
     },
     "execution_count": 2,
     "metadata": {},
     "output_type": "execute_result"
    }
   ],
   "source": [
    "unemp = pd.read_csv('./output.csv') #read the data\n",
    "unemp.head()"
   ]
  },
  {
   "cell_type": "code",
   "execution_count": 3,
   "id": "c83485ce",
   "metadata": {},
   "outputs": [
    {
     "data": {
      "text/plain": [
       "(885548, 5)"
      ]
     },
     "execution_count": 3,
     "metadata": {},
     "output_type": "execute_result"
    }
   ],
   "source": [
    "unemp.shape"
   ]
  },
  {
   "cell_type": "code",
   "execution_count": 4,
   "id": "ca73232c",
   "metadata": {},
   "outputs": [
    {
     "data": {
      "text/plain": [
       "Year      0\n",
       "Month     0\n",
       "State     0\n",
       "County    0\n",
       "Rate      0\n",
       "dtype: int64"
      ]
     },
     "execution_count": 4,
     "metadata": {},
     "output_type": "execute_result"
    }
   ],
   "source": [
    "unemp.isnull().sum()"
   ]
  },
  {
   "cell_type": "code",
   "execution_count": 5,
   "id": "e7323353",
   "metadata": {},
   "outputs": [
    {
     "data": {
      "text/plain": [
       "Texas             57658\n",
       "Virginia          39900\n",
       "Missouri          37260\n",
       "Kentucky          36360\n",
       "Kansas            34020\n",
       "Illinois          33048\n",
       "North Carolina    32400\n",
       "Iowa              32076\n",
       "Tennessee         30780\n",
       "Nebraska          30132\n",
       "Indiana           29808\n",
       "Ohio              28512\n",
       "Minnesota         28188\n",
       "Mississippi       26568\n",
       "Oklahoma          24948\n",
       "Arkansas          24300\n",
       "Michigan          24236\n",
       "Wisconsin         23328\n",
       "Alabama           21708\n",
       "Pennsylvania      21708\n",
       "South Dakota      21384\n",
       "Colorado          20736\n",
       "New York          20088\n",
       "Montana           18144\n",
       "West Virginia     17820\n",
       "North Dakota      17172\n",
       "California        16878\n",
       "South Carolina    14904\n",
       "Idaho             14256\n",
       "Washington        12636\n",
       "Oregon            11664\n",
       "New Mexico        10692\n",
       "Utah               9396\n",
       "Maryland           7776\n",
       "Wyoming            7452\n",
       "New Jersey         6804\n",
       "Louisiana          6464\n",
       "Nevada             5508\n",
       "Maine              5184\n",
       "Arizona            4860\n",
       "Vermont            4536\n",
       "Massachusetts      4536\n",
       "New Hampshire      3240\n",
       "Connecticut        2592\n",
       "Rhode Island       1620\n",
       "Hawaii             1296\n",
       "Delaware            972\n",
       "Name: State, dtype: int64"
      ]
     },
     "execution_count": 5,
     "metadata": {},
     "output_type": "execute_result"
    }
   ],
   "source": [
    "#Count of each state data which shows Texas is the most repeated\n",
    "states=unemp['State'].value_counts()\n",
    "states"
   ]
  },
  {
   "cell_type": "code",
   "execution_count": 6,
   "id": "8ae1b498",
   "metadata": {},
   "outputs": [
    {
     "name": "stderr",
     "output_type": "stream",
     "text": [
      "C:\\Users\\Dishant\\AppData\\Local\\Programs\\Python\\Python39\\lib\\site-packages\\seaborn\\_decorators.py:36: FutureWarning: Pass the following variable as a keyword arg: x. From version 0.12, the only valid positional argument will be `data`, and passing other arguments without an explicit keyword will result in an error or misinterpretation.\n",
      "  warnings.warn(\n"
     ]
    },
    {
     "data": {
      "image/png": "[encoded data removed]",
      "text/plain": [
       "<Figure size 864x432 with 1 Axes>"
      ]
     },
     "metadata": {
      "needs_background": "light"
     },
     "output_type": "display_data"
    }
   ],
   "source": [
    "#Count of States\n",
    "plt.figure(figsize=(12,6))\n",
    "s = sns.countplot(unemp['State'])\n",
    "plt.ylabel('Number of Occurrences', fontsize=12)\n",
    "s.set_xticklabels(s.get_xticklabels(), rotation=90, ha=\"right\")\n",
    "plt.show()"
   ]
  },
  {
   "cell_type": "code",
   "execution_count": 49,
   "id": "e0e7ba18",
   "metadata": {},
   "outputs": [
    {
     "data": {
      "text/plain": [
       "58.4"
      ]
     },
     "execution_count": 49,
     "metadata": {},
     "output_type": "execute_result"
    }
   ],
   "source": [
    "unemp_rate = unemp.Rate.max() #Hieghest unemployment rate of any state\n",
    "unemp_rate"
   ]
  },
  {
   "cell_type": "code",
   "execution_count": 50,
   "id": "f35d163b",
   "metadata": {},
   "outputs": [
    {
     "data": {
      "text/plain": [
       "351231    Colorado\n",
       "Name: State, dtype: object"
      ]
     },
     "execution_count": 50,
     "metadata": {},
     "output_type": "execute_result"
    }
   ],
   "source": [
    "unemp[unemp['Rate']>58]['State'] #Result shows Colorado has highest unempoyment rates and this is the same state with highest number of voters."
   ]
  },
  {
   "cell_type": "markdown",
   "id": "e71f0ca2",
   "metadata": {},
   "source": [
    "Average unemployment rate per state"
   ]
  },
  {
   "cell_type": "code",
   "execution_count": 9,
   "id": "72b80ef3",
   "metadata": {},
   "outputs": [
    {
     "data": {
      "text/html": [
       "<div>\n",
       "<style scoped>\n",
       "    .dataframe tbody tr th:only-of-type {\n",
       "        vertical-align: middle;\n",
       "    }\n",
       "\n",
       "    .dataframe tbody tr th {\n",
       "        vertical-align: top;\n",
       "    }\n",
       "\n",
       "    .dataframe thead th {\n",
       "        text-align: right;\n",
       "    }\n",
       "</style>\n",
       "<table border=\"1\" class=\"dataframe\">\n",
       "  <thead>\n",
       "    <tr style=\"text-align: right;\">\n",
       "      <th></th>\n",
       "      <th>State</th>\n",
       "      <th>Rate</th>\n",
       "    </tr>\n",
       "  </thead>\n",
       "  <tbody>\n",
       "    <tr>\n",
       "      <th>1</th>\n",
       "      <td>Arizona</td>\n",
       "      <td>9.274588</td>\n",
       "    </tr>\n",
       "    <tr>\n",
       "      <th>3</th>\n",
       "      <td>California</td>\n",
       "      <td>9.045005</td>\n",
       "    </tr>\n",
       "    <tr>\n",
       "      <th>20</th>\n",
       "      <td>Mississippi</td>\n",
       "      <td>8.320517</td>\n",
       "    </tr>\n",
       "    <tr>\n",
       "      <th>18</th>\n",
       "      <td>Michigan</td>\n",
       "      <td>8.136136</td>\n",
       "    </tr>\n",
       "    <tr>\n",
       "      <th>44</th>\n",
       "      <td>West Virginia</td>\n",
       "      <td>8.104809</td>\n",
       "    </tr>\n",
       "    <tr>\n",
       "      <th>43</th>\n",
       "      <td>Washington</td>\n",
       "      <td>8.031513</td>\n",
       "    </tr>\n",
       "    <tr>\n",
       "      <th>36</th>\n",
       "      <td>South Carolina</td>\n",
       "      <td>7.978737</td>\n",
       "    </tr>\n",
       "    <tr>\n",
       "      <th>33</th>\n",
       "      <td>Oregon</td>\n",
       "      <td>7.849271</td>\n",
       "    </tr>\n",
       "    <tr>\n",
       "      <th>14</th>\n",
       "      <td>Louisiana</td>\n",
       "      <td>7.812949</td>\n",
       "    </tr>\n",
       "    <tr>\n",
       "      <th>0</th>\n",
       "      <td>Alabama</td>\n",
       "      <td>7.723844</td>\n",
       "    </tr>\n",
       "    <tr>\n",
       "      <th>38</th>\n",
       "      <td>Tennessee</td>\n",
       "      <td>7.305776</td>\n",
       "    </tr>\n",
       "    <tr>\n",
       "      <th>13</th>\n",
       "      <td>Kentucky</td>\n",
       "      <td>7.238306</td>\n",
       "    </tr>\n",
       "    <tr>\n",
       "      <th>27</th>\n",
       "      <td>New Mexico</td>\n",
       "      <td>7.083895</td>\n",
       "    </tr>\n",
       "    <tr>\n",
       "      <th>31</th>\n",
       "      <td>Ohio</td>\n",
       "      <td>6.923390</td>\n",
       "    </tr>\n",
       "    <tr>\n",
       "      <th>2</th>\n",
       "      <td>Arkansas</td>\n",
       "      <td>6.782210</td>\n",
       "    </tr>\n",
       "    <tr>\n",
       "      <th>24</th>\n",
       "      <td>Nevada</td>\n",
       "      <td>6.737019</td>\n",
       "    </tr>\n",
       "    <tr>\n",
       "      <th>29</th>\n",
       "      <td>North Carolina</td>\n",
       "      <td>6.708099</td>\n",
       "    </tr>\n",
       "    <tr>\n",
       "      <th>9</th>\n",
       "      <td>Illinois</td>\n",
       "      <td>6.548596</td>\n",
       "    </tr>\n",
       "    <tr>\n",
       "      <th>34</th>\n",
       "      <td>Pennsylvania</td>\n",
       "      <td>6.475843</td>\n",
       "    </tr>\n",
       "    <tr>\n",
       "      <th>26</th>\n",
       "      <td>New Jersey</td>\n",
       "      <td>6.422105</td>\n",
       "    </tr>\n",
       "    <tr>\n",
       "      <th>8</th>\n",
       "      <td>Idaho</td>\n",
       "      <td>6.319992</td>\n",
       "    </tr>\n",
       "    <tr>\n",
       "      <th>35</th>\n",
       "      <td>Rhode Island</td>\n",
       "      <td>6.295802</td>\n",
       "    </tr>\n",
       "    <tr>\n",
       "      <th>15</th>\n",
       "      <td>Maine</td>\n",
       "      <td>6.263985</td>\n",
       "    </tr>\n",
       "    <tr>\n",
       "      <th>21</th>\n",
       "      <td>Missouri</td>\n",
       "      <td>6.258425</td>\n",
       "    </tr>\n",
       "    <tr>\n",
       "      <th>28</th>\n",
       "      <td>New York</td>\n",
       "      <td>6.226225</td>\n",
       "    </tr>\n",
       "    <tr>\n",
       "      <th>10</th>\n",
       "      <td>Indiana</td>\n",
       "      <td>5.922725</td>\n",
       "    </tr>\n",
       "    <tr>\n",
       "      <th>39</th>\n",
       "      <td>Texas</td>\n",
       "      <td>5.894519</td>\n",
       "    </tr>\n",
       "    <tr>\n",
       "      <th>16</th>\n",
       "      <td>Maryland</td>\n",
       "      <td>5.866422</td>\n",
       "    </tr>\n",
       "    <tr>\n",
       "      <th>45</th>\n",
       "      <td>Wisconsin</td>\n",
       "      <td>5.815659</td>\n",
       "    </tr>\n",
       "    <tr>\n",
       "      <th>7</th>\n",
       "      <td>Hawaii</td>\n",
       "      <td>5.730401</td>\n",
       "    </tr>\n",
       "    <tr>\n",
       "      <th>17</th>\n",
       "      <td>Massachusetts</td>\n",
       "      <td>5.673611</td>\n",
       "    </tr>\n",
       "    <tr>\n",
       "      <th>5</th>\n",
       "      <td>Connecticut</td>\n",
       "      <td>5.548534</td>\n",
       "    </tr>\n",
       "    <tr>\n",
       "      <th>40</th>\n",
       "      <td>Utah</td>\n",
       "      <td>5.503076</td>\n",
       "    </tr>\n",
       "    <tr>\n",
       "      <th>42</th>\n",
       "      <td>Virginia</td>\n",
       "      <td>5.450772</td>\n",
       "    </tr>\n",
       "    <tr>\n",
       "      <th>19</th>\n",
       "      <td>Minnesota</td>\n",
       "      <td>5.403750</td>\n",
       "    </tr>\n",
       "    <tr>\n",
       "      <th>4</th>\n",
       "      <td>Colorado</td>\n",
       "      <td>5.358946</td>\n",
       "    </tr>\n",
       "    <tr>\n",
       "      <th>22</th>\n",
       "      <td>Montana</td>\n",
       "      <td>5.305418</td>\n",
       "    </tr>\n",
       "    <tr>\n",
       "      <th>32</th>\n",
       "      <td>Oklahoma</td>\n",
       "      <td>5.228062</td>\n",
       "    </tr>\n",
       "    <tr>\n",
       "      <th>6</th>\n",
       "      <td>Delaware</td>\n",
       "      <td>5.041049</td>\n",
       "    </tr>\n",
       "    <tr>\n",
       "      <th>41</th>\n",
       "      <td>Vermont</td>\n",
       "      <td>4.944356</td>\n",
       "    </tr>\n",
       "    <tr>\n",
       "      <th>46</th>\n",
       "      <td>Wyoming</td>\n",
       "      <td>4.576503</td>\n",
       "    </tr>\n",
       "    <tr>\n",
       "      <th>25</th>\n",
       "      <td>New Hampshire</td>\n",
       "      <td>4.345710</td>\n",
       "    </tr>\n",
       "    <tr>\n",
       "      <th>11</th>\n",
       "      <td>Iowa</td>\n",
       "      <td>4.236744</td>\n",
       "    </tr>\n",
       "    <tr>\n",
       "      <th>12</th>\n",
       "      <td>Kansas</td>\n",
       "      <td>4.178851</td>\n",
       "    </tr>\n",
       "    <tr>\n",
       "      <th>37</th>\n",
       "      <td>South Dakota</td>\n",
       "      <td>4.097629</td>\n",
       "    </tr>\n",
       "    <tr>\n",
       "      <th>30</th>\n",
       "      <td>North Dakota</td>\n",
       "      <td>3.848084</td>\n",
       "    </tr>\n",
       "    <tr>\n",
       "      <th>23</th>\n",
       "      <td>Nebraska</td>\n",
       "      <td>3.109903</td>\n",
       "    </tr>\n",
       "  </tbody>\n",
       "</table>\n",
       "</div>"
      ],
      "text/plain": [
       "             State      Rate\n",
       "1          Arizona  9.274588\n",
       "3       California  9.045005\n",
       "20     Mississippi  8.320517\n",
       "18        Michigan  8.136136\n",
       "44   West Virginia  8.104809\n",
       "43      Washington  8.031513\n",
       "36  South Carolina  7.978737\n",
       "33          Oregon  7.849271\n",
       "14       Louisiana  7.812949\n",
       "0          Alabama  7.723844\n",
       "38       Tennessee  7.305776\n",
       "13        Kentucky  7.238306\n",
       "27      New Mexico  7.083895\n",
       "31            Ohio  6.923390\n",
       "2         Arkansas  6.782210\n",
       "24          Nevada  6.737019\n",
       "29  North Carolina  6.708099\n",
       "9         Illinois  6.548596\n",
       "34    Pennsylvania  6.475843\n",
       "26      New Jersey  6.422105\n",
       "8            Idaho  6.319992\n",
       "35    Rhode Island  6.295802\n",
       "15           Maine  6.263985\n",
       "21        Missouri  6.258425\n",
       "28        New York  6.226225\n",
       "10         Indiana  5.922725\n",
       "39           Texas  5.894519\n",
       "16        Maryland  5.866422\n",
       "45       Wisconsin  5.815659\n",
       "7           Hawaii  5.730401\n",
       "17   Massachusetts  5.673611\n",
       "5      Connecticut  5.548534\n",
       "40            Utah  5.503076\n",
       "42        Virginia  5.450772\n",
       "19       Minnesota  5.403750\n",
       "4         Colorado  5.358946\n",
       "22         Montana  5.305418\n",
       "32        Oklahoma  5.228062\n",
       "6         Delaware  5.041049\n",
       "41         Vermont  4.944356\n",
       "46         Wyoming  4.576503\n",
       "25   New Hampshire  4.345710\n",
       "11            Iowa  4.236744\n",
       "12          Kansas  4.178851\n",
       "37    South Dakota  4.097629\n",
       "30    North Dakota  3.848084\n",
       "23        Nebraska  3.109903"
      ]
     },
     "execution_count": 9,
     "metadata": {},
     "output_type": "execute_result"
    }
   ],
   "source": [
    "Avg_rate = unemp[['State', 'Rate']]\n",
    "Avg_rate_= Avg_rate.groupby(['State'],as_index=False).mean()\n",
    "Avg_rate_ = Avg_rate_.sort_values(['Rate'], ascending=False)\n",
    "Avg_rate_"
   ]
  },
  {
   "cell_type": "code",
   "execution_count": 10,
   "id": "11b0b4dc",
   "metadata": {},
   "outputs": [
    {
     "data": {
      "image/png": "[encoded data removed]",
      "text/plain": [
       "<Figure size 1008x432 with 1 Axes>"
      ]
     },
     "metadata": {
      "needs_background": "light"
     },
     "output_type": "display_data"
    }
   ],
   "source": [
    "fig, ax = plt.subplots(figsize=(14,6))\n",
    "sns.barplot(x='State', y='Rate', data=Avg_rate_, ax=ax)\n",
    "plt.title('Average Unemployment Rate Per state')\n",
    "plt.xticks(rotation='vertical')\n",
    "plt.show()"
   ]
  },
  {
   "cell_type": "code",
   "execution_count": 11,
   "id": "2458912c",
   "metadata": {},
   "outputs": [
    {
     "data": {
      "text/html": [
       "<div>\n",
       "<style scoped>\n",
       "    .dataframe tbody tr th:only-of-type {\n",
       "        vertical-align: middle;\n",
       "    }\n",
       "\n",
       "    .dataframe tbody tr th {\n",
       "        vertical-align: top;\n",
       "    }\n",
       "\n",
       "    .dataframe thead th {\n",
       "        text-align: right;\n",
       "    }\n",
       "</style>\n",
       "<table border=\"1\" class=\"dataframe\">\n",
       "  <thead>\n",
       "    <tr style=\"text-align: right;\">\n",
       "      <th></th>\n",
       "      <th>Year</th>\n",
       "      <th>Rate</th>\n",
       "    </tr>\n",
       "  </thead>\n",
       "  <tbody>\n",
       "    <tr>\n",
       "      <th>26</th>\n",
       "      <td>2016</td>\n",
       "      <td>5.160680</td>\n",
       "    </tr>\n",
       "    <tr>\n",
       "      <th>25</th>\n",
       "      <td>2015</td>\n",
       "      <td>5.401873</td>\n",
       "    </tr>\n",
       "    <tr>\n",
       "      <th>24</th>\n",
       "      <td>2014</td>\n",
       "      <td>6.096365</td>\n",
       "    </tr>\n",
       "    <tr>\n",
       "      <th>23</th>\n",
       "      <td>2013</td>\n",
       "      <td>7.211610</td>\n",
       "    </tr>\n",
       "    <tr>\n",
       "      <th>22</th>\n",
       "      <td>2012</td>\n",
       "      <td>7.657544</td>\n",
       "    </tr>\n",
       "    <tr>\n",
       "      <th>21</th>\n",
       "      <td>2011</td>\n",
       "      <td>8.523477</td>\n",
       "    </tr>\n",
       "    <tr>\n",
       "      <th>20</th>\n",
       "      <td>2010</td>\n",
       "      <td>9.189580</td>\n",
       "    </tr>\n",
       "    <tr>\n",
       "      <th>19</th>\n",
       "      <td>2009</td>\n",
       "      <td>8.883838</td>\n",
       "    </tr>\n",
       "    <tr>\n",
       "      <th>18</th>\n",
       "      <td>2008</td>\n",
       "      <td>5.759990</td>\n",
       "    </tr>\n",
       "    <tr>\n",
       "      <th>17</th>\n",
       "      <td>2007</td>\n",
       "      <td>4.896069</td>\n",
       "    </tr>\n",
       "    <tr>\n",
       "      <th>16</th>\n",
       "      <td>2006</td>\n",
       "      <td>4.979263</td>\n",
       "    </tr>\n",
       "    <tr>\n",
       "      <th>15</th>\n",
       "      <td>2005</td>\n",
       "      <td>5.438981</td>\n",
       "    </tr>\n",
       "    <tr>\n",
       "      <th>14</th>\n",
       "      <td>2004</td>\n",
       "      <td>5.695817</td>\n",
       "    </tr>\n",
       "    <tr>\n",
       "      <th>13</th>\n",
       "      <td>2003</td>\n",
       "      <td>6.027990</td>\n",
       "    </tr>\n",
       "    <tr>\n",
       "      <th>12</th>\n",
       "      <td>2002</td>\n",
       "      <td>5.720915</td>\n",
       "    </tr>\n",
       "    <tr>\n",
       "      <th>11</th>\n",
       "      <td>2001</td>\n",
       "      <td>4.985591</td>\n",
       "    </tr>\n",
       "    <tr>\n",
       "      <th>10</th>\n",
       "      <td>2000</td>\n",
       "      <td>4.321123</td>\n",
       "    </tr>\n",
       "    <tr>\n",
       "      <th>9</th>\n",
       "      <td>1999</td>\n",
       "      <td>4.873476</td>\n",
       "    </tr>\n",
       "    <tr>\n",
       "      <th>8</th>\n",
       "      <td>1998</td>\n",
       "      <td>5.114221</td>\n",
       "    </tr>\n",
       "    <tr>\n",
       "      <th>7</th>\n",
       "      <td>1997</td>\n",
       "      <td>5.474520</td>\n",
       "    </tr>\n",
       "    <tr>\n",
       "      <th>6</th>\n",
       "      <td>1996</td>\n",
       "      <td>5.912081</td>\n",
       "    </tr>\n",
       "    <tr>\n",
       "      <th>5</th>\n",
       "      <td>1995</td>\n",
       "      <td>5.893411</td>\n",
       "    </tr>\n",
       "    <tr>\n",
       "      <th>4</th>\n",
       "      <td>1994</td>\n",
       "      <td>6.186649</td>\n",
       "    </tr>\n",
       "    <tr>\n",
       "      <th>3</th>\n",
       "      <td>1993</td>\n",
       "      <td>6.924037</td>\n",
       "    </tr>\n",
       "    <tr>\n",
       "      <th>2</th>\n",
       "      <td>1992</td>\n",
       "      <td>7.464904</td>\n",
       "    </tr>\n",
       "    <tr>\n",
       "      <th>1</th>\n",
       "      <td>1991</td>\n",
       "      <td>7.142391</td>\n",
       "    </tr>\n",
       "    <tr>\n",
       "      <th>0</th>\n",
       "      <td>1990</td>\n",
       "      <td>6.093021</td>\n",
       "    </tr>\n",
       "  </tbody>\n",
       "</table>\n",
       "</div>"
      ],
      "text/plain": [
       "    Year      Rate\n",
       "26  2016  5.160680\n",
       "25  2015  5.401873\n",
       "24  2014  6.096365\n",
       "23  2013  7.211610\n",
       "22  2012  7.657544\n",
       "21  2011  8.523477\n",
       "20  2010  9.189580\n",
       "19  2009  8.883838\n",
       "18  2008  5.759990\n",
       "17  2007  4.896069\n",
       "16  2006  4.979263\n",
       "15  2005  5.438981\n",
       "14  2004  5.695817\n",
       "13  2003  6.027990\n",
       "12  2002  5.720915\n",
       "11  2001  4.985591\n",
       "10  2000  4.321123\n",
       "9   1999  4.873476\n",
       "8   1998  5.114221\n",
       "7   1997  5.474520\n",
       "6   1996  5.912081\n",
       "5   1995  5.893411\n",
       "4   1994  6.186649\n",
       "3   1993  6.924037\n",
       "2   1992  7.464904\n",
       "1   1991  7.142391\n",
       "0   1990  6.093021"
      ]
     },
     "execution_count": 11,
     "metadata": {},
     "output_type": "execute_result"
    }
   ],
   "source": [
    "year_unemp = unemp[['Year', 'Rate']]\n",
    "year_unemp_ = unemp.groupby(['Year'], as_index = False).mean()\n",
    "year_unemp_ = year_unemp_.sort_values(['Year'], ascending = False)\n",
    "year_unemp_"
   ]
  },
  {
   "cell_type": "markdown",
   "id": "7b4458b2",
   "metadata": {},
   "source": [
    "Unemployment rate by Year"
   ]
  },
  {
   "cell_type": "code",
   "execution_count": 12,
   "id": "9797c505",
   "metadata": {},
   "outputs": [
    {
     "data": {
      "image/png": "[encoded data removed]",
      "text/plain": [
       "<Figure size 864x360 with 1 Axes>"
      ]
     },
     "metadata": {
      "needs_background": "light"
     },
     "output_type": "display_data"
    }
   ],
   "source": [
    "fig, ax = plt.subplots(figsize=(12,5))\n",
    "sns.lineplot(x='Year', y='Rate', data=year_unemp_, markers=True, ax=ax)\n",
    "ax.set_xticks(ticks=unemp['Year'].value_counts(ascending=True).index)\n",
    "plt.xticks(rotation='vertical')\n",
    "plt.show()"
   ]
  },
  {
   "cell_type": "code",
   "execution_count": 17,
   "id": "a4c40d41",
   "metadata": {},
   "outputs": [
    {
     "data": {
      "text/html": [
       "<div>\n",
       "<style scoped>\n",
       "    .dataframe tbody tr th:only-of-type {\n",
       "        vertical-align: middle;\n",
       "    }\n",
       "\n",
       "    .dataframe tbody tr th {\n",
       "        vertical-align: top;\n",
       "    }\n",
       "\n",
       "    .dataframe thead th {\n",
       "        text-align: right;\n",
       "    }\n",
       "</style>\n",
       "<table border=\"1\" class=\"dataframe\">\n",
       "  <thead>\n",
       "    <tr style=\"text-align: right;\">\n",
       "      <th></th>\n",
       "      <th>Year</th>\n",
       "      <th>State</th>\n",
       "      <th>Table_Data</th>\n",
       "      <th>Footnote</th>\n",
       "      <th>High.Value</th>\n",
       "      <th>Low.Value</th>\n",
       "      <th>CPI.Average</th>\n",
       "      <th>High.2018</th>\n",
       "      <th>Low.2018</th>\n",
       "    </tr>\n",
       "  </thead>\n",
       "  <tbody>\n",
       "    <tr>\n",
       "      <th>0</th>\n",
       "      <td>1968</td>\n",
       "      <td>Alabama</td>\n",
       "      <td>...</td>\n",
       "      <td>NaN</td>\n",
       "      <td>0.00000</td>\n",
       "      <td>0.00000</td>\n",
       "      <td>34.783333</td>\n",
       "      <td>0.00</td>\n",
       "      <td>0.00</td>\n",
       "    </tr>\n",
       "    <tr>\n",
       "      <th>1</th>\n",
       "      <td>1968</td>\n",
       "      <td>Alaska</td>\n",
       "      <td>2.10</td>\n",
       "      <td>NaN</td>\n",
       "      <td>2.10000</td>\n",
       "      <td>2.10000</td>\n",
       "      <td>34.783333</td>\n",
       "      <td>15.12</td>\n",
       "      <td>15.12</td>\n",
       "    </tr>\n",
       "    <tr>\n",
       "      <th>2</th>\n",
       "      <td>1968</td>\n",
       "      <td>Arizona</td>\n",
       "      <td>18.72 - 26.40/wk(b)</td>\n",
       "      <td>(b)</td>\n",
       "      <td>0.66000</td>\n",
       "      <td>0.46800</td>\n",
       "      <td>34.783333</td>\n",
       "      <td>4.75</td>\n",
       "      <td>3.37</td>\n",
       "    </tr>\n",
       "    <tr>\n",
       "      <th>3</th>\n",
       "      <td>1968</td>\n",
       "      <td>Arkansas</td>\n",
       "      <td>1.25/day(b)</td>\n",
       "      <td>(b)</td>\n",
       "      <td>0.15625</td>\n",
       "      <td>0.15625</td>\n",
       "      <td>34.783333</td>\n",
       "      <td>1.12</td>\n",
       "      <td>1.12</td>\n",
       "    </tr>\n",
       "    <tr>\n",
       "      <th>4</th>\n",
       "      <td>1968</td>\n",
       "      <td>California</td>\n",
       "      <td>1.65(b)</td>\n",
       "      <td>(b)</td>\n",
       "      <td>1.65000</td>\n",
       "      <td>1.65000</td>\n",
       "      <td>34.783333</td>\n",
       "      <td>11.88</td>\n",
       "      <td>11.88</td>\n",
       "    </tr>\n",
       "  </tbody>\n",
       "</table>\n",
       "</div>"
      ],
      "text/plain": [
       "   Year       State           Table_Data Footnote  High.Value  Low.Value  \\\n",
       "0  1968     Alabama                  ...      NaN     0.00000    0.00000   \n",
       "1  1968      Alaska                 2.10      NaN     2.10000    2.10000   \n",
       "2  1968     Arizona  18.72 - 26.40/wk(b)      (b)     0.66000    0.46800   \n",
       "3  1968    Arkansas          1.25/day(b)      (b)     0.15625    0.15625   \n",
       "4  1968  California              1.65(b)      (b)     1.65000    1.65000   \n",
       "\n",
       "   CPI.Average  High.2018  Low.2018  \n",
       "0    34.783333       0.00      0.00  \n",
       "1    34.783333      15.12     15.12  \n",
       "2    34.783333       4.75      3.37  \n",
       "3    34.783333       1.12      1.12  \n",
       "4    34.783333      11.88     11.88  "
      ]
     },
     "execution_count": 17,
     "metadata": {},
     "output_type": "execute_result"
    }
   ],
   "source": [
    "#Importing minimum wage data\n",
    "df = pd.read_csv('./Minimum Wage Data.csv',encoding='cp1252')\n",
    "df.head()"
   ]
  },
  {
   "cell_type": "code",
   "execution_count": 18,
   "id": "24034d08",
   "metadata": {},
   "outputs": [
    {
     "data": {
      "text/html": [
       "<div>\n",
       "<style scoped>\n",
       "    .dataframe tbody tr th:only-of-type {\n",
       "        vertical-align: middle;\n",
       "    }\n",
       "\n",
       "    .dataframe tbody tr th {\n",
       "        vertical-align: top;\n",
       "    }\n",
       "\n",
       "    .dataframe thead th {\n",
       "        text-align: right;\n",
       "    }\n",
       "</style>\n",
       "<table border=\"1\" class=\"dataframe\">\n",
       "  <thead>\n",
       "    <tr style=\"text-align: right;\">\n",
       "      <th></th>\n",
       "      <th>Alabama</th>\n",
       "      <th>Alaska</th>\n",
       "      <th>Arizona</th>\n",
       "      <th>Arkansas</th>\n",
       "      <th>California</th>\n",
       "      <th>Colorado</th>\n",
       "      <th>Connecticut</th>\n",
       "      <th>Delaware</th>\n",
       "      <th>District of Columbia</th>\n",
       "      <th>Federal (FLSA)</th>\n",
       "      <th>...</th>\n",
       "      <th>Tennessee</th>\n",
       "      <th>Texas</th>\n",
       "      <th>U.S. Virgin Islands</th>\n",
       "      <th>Utah</th>\n",
       "      <th>Vermont</th>\n",
       "      <th>Virginia</th>\n",
       "      <th>Washington</th>\n",
       "      <th>West Virginia</th>\n",
       "      <th>Wisconsin</th>\n",
       "      <th>Wyoming</th>\n",
       "    </tr>\n",
       "    <tr>\n",
       "      <th>Year</th>\n",
       "      <th></th>\n",
       "      <th></th>\n",
       "      <th></th>\n",
       "      <th></th>\n",
       "      <th></th>\n",
       "      <th></th>\n",
       "      <th></th>\n",
       "      <th></th>\n",
       "      <th></th>\n",
       "      <th></th>\n",
       "      <th></th>\n",
       "      <th></th>\n",
       "      <th></th>\n",
       "      <th></th>\n",
       "      <th></th>\n",
       "      <th></th>\n",
       "      <th></th>\n",
       "      <th></th>\n",
       "      <th></th>\n",
       "      <th></th>\n",
       "      <th></th>\n",
       "    </tr>\n",
       "  </thead>\n",
       "  <tbody>\n",
       "    <tr>\n",
       "      <th>1968</th>\n",
       "      <td>0.0</td>\n",
       "      <td>15.12</td>\n",
       "      <td>3.37</td>\n",
       "      <td>1.12</td>\n",
       "      <td>11.88</td>\n",
       "      <td>7.20</td>\n",
       "      <td>10.08</td>\n",
       "      <td>9.00</td>\n",
       "      <td>9.00</td>\n",
       "      <td>8.28</td>\n",
       "      <td>...</td>\n",
       "      <td>0.0</td>\n",
       "      <td>0.00</td>\n",
       "      <td>NaN</td>\n",
       "      <td>7.20</td>\n",
       "      <td>10.08</td>\n",
       "      <td>0.0</td>\n",
       "      <td>11.52</td>\n",
       "      <td>7.20</td>\n",
       "      <td>9.00</td>\n",
       "      <td>8.64</td>\n",
       "    </tr>\n",
       "    <tr>\n",
       "      <th>1969</th>\n",
       "      <td>0.0</td>\n",
       "      <td>14.33</td>\n",
       "      <td>3.19</td>\n",
       "      <td>1.07</td>\n",
       "      <td>11.26</td>\n",
       "      <td>6.83</td>\n",
       "      <td>9.56</td>\n",
       "      <td>8.53</td>\n",
       "      <td>8.53</td>\n",
       "      <td>7.85</td>\n",
       "      <td>...</td>\n",
       "      <td>0.0</td>\n",
       "      <td>0.00</td>\n",
       "      <td>NaN</td>\n",
       "      <td>6.83</td>\n",
       "      <td>9.56</td>\n",
       "      <td>0.0</td>\n",
       "      <td>10.92</td>\n",
       "      <td>6.83</td>\n",
       "      <td>8.53</td>\n",
       "      <td>8.19</td>\n",
       "    </tr>\n",
       "    <tr>\n",
       "      <th>1970</th>\n",
       "      <td>0.0</td>\n",
       "      <td>13.54</td>\n",
       "      <td>3.02</td>\n",
       "      <td>7.09</td>\n",
       "      <td>10.64</td>\n",
       "      <td>6.45</td>\n",
       "      <td>10.32</td>\n",
       "      <td>8.06</td>\n",
       "      <td>10.32</td>\n",
       "      <td>8.38</td>\n",
       "      <td>...</td>\n",
       "      <td>0.0</td>\n",
       "      <td>0.00</td>\n",
       "      <td>NaN</td>\n",
       "      <td>6.45</td>\n",
       "      <td>10.32</td>\n",
       "      <td>0.0</td>\n",
       "      <td>10.32</td>\n",
       "      <td>6.45</td>\n",
       "      <td>8.38</td>\n",
       "      <td>8.38</td>\n",
       "    </tr>\n",
       "    <tr>\n",
       "      <th>1971</th>\n",
       "      <td>0.0</td>\n",
       "      <td>12.99</td>\n",
       "      <td>2.89</td>\n",
       "      <td>6.80</td>\n",
       "      <td>10.20</td>\n",
       "      <td>6.18</td>\n",
       "      <td>9.89</td>\n",
       "      <td>7.73</td>\n",
       "      <td>9.89</td>\n",
       "      <td>8.04</td>\n",
       "      <td>...</td>\n",
       "      <td>0.0</td>\n",
       "      <td>0.00</td>\n",
       "      <td>NaN</td>\n",
       "      <td>6.18</td>\n",
       "      <td>9.89</td>\n",
       "      <td>0.0</td>\n",
       "      <td>9.89</td>\n",
       "      <td>6.18</td>\n",
       "      <td>8.04</td>\n",
       "      <td>8.04</td>\n",
       "    </tr>\n",
       "    <tr>\n",
       "      <th>1972</th>\n",
       "      <td>0.0</td>\n",
       "      <td>12.57</td>\n",
       "      <td>2.80</td>\n",
       "      <td>7.19</td>\n",
       "      <td>9.88</td>\n",
       "      <td>5.99</td>\n",
       "      <td>11.08</td>\n",
       "      <td>9.58</td>\n",
       "      <td>9.58</td>\n",
       "      <td>9.58</td>\n",
       "      <td>...</td>\n",
       "      <td>0.0</td>\n",
       "      <td>8.38</td>\n",
       "      <td>NaN</td>\n",
       "      <td>7.19</td>\n",
       "      <td>9.58</td>\n",
       "      <td>0.0</td>\n",
       "      <td>9.58</td>\n",
       "      <td>7.19</td>\n",
       "      <td>8.68</td>\n",
       "      <td>8.98</td>\n",
       "    </tr>\n",
       "  </tbody>\n",
       "</table>\n",
       "<p>5 rows × 55 columns</p>\n",
       "</div>"
      ],
      "text/plain": [
       "      Alabama  Alaska  Arizona  Arkansas  California  Colorado  Connecticut  \\\n",
       "Year                                                                          \n",
       "1968      0.0   15.12     3.37      1.12       11.88      7.20        10.08   \n",
       "1969      0.0   14.33     3.19      1.07       11.26      6.83         9.56   \n",
       "1970      0.0   13.54     3.02      7.09       10.64      6.45        10.32   \n",
       "1971      0.0   12.99     2.89      6.80       10.20      6.18         9.89   \n",
       "1972      0.0   12.57     2.80      7.19        9.88      5.99        11.08   \n",
       "\n",
       "      Delaware  District of Columbia  Federal (FLSA)  ...  Tennessee  Texas  \\\n",
       "Year                                                  ...                     \n",
       "1968      9.00                  9.00            8.28  ...        0.0   0.00   \n",
       "1969      8.53                  8.53            7.85  ...        0.0   0.00   \n",
       "1970      8.06                 10.32            8.38  ...        0.0   0.00   \n",
       "1971      7.73                  9.89            8.04  ...        0.0   0.00   \n",
       "1972      9.58                  9.58            9.58  ...        0.0   8.38   \n",
       "\n",
       "      U.S. Virgin Islands  Utah  Vermont  Virginia  Washington  West Virginia  \\\n",
       "Year                                                                            \n",
       "1968                  NaN  7.20    10.08       0.0       11.52           7.20   \n",
       "1969                  NaN  6.83     9.56       0.0       10.92           6.83   \n",
       "1970                  NaN  6.45    10.32       0.0       10.32           6.45   \n",
       "1971                  NaN  6.18     9.89       0.0        9.89           6.18   \n",
       "1972                  NaN  7.19     9.58       0.0        9.58           7.19   \n",
       "\n",
       "      Wisconsin  Wyoming  \n",
       "Year                      \n",
       "1968       9.00     8.64  \n",
       "1969       8.53     8.19  \n",
       "1970       8.38     8.38  \n",
       "1971       8.04     8.04  \n",
       "1972       8.68     8.98  \n",
       "\n",
       "[5 rows x 55 columns]"
      ]
     },
     "execution_count": 18,
     "metadata": {},
     "output_type": "execute_result"
    }
   ],
   "source": [
    "#Minimum wage data by State\n",
    "act = pd.DataFrame()\n",
    "\n",
    "\n",
    "for name, group in df.groupby(\"State\"):\n",
    "    if act.empty:\n",
    "        act = group.set_index(\"Year\")[[\"Low.2018\"]].rename(columns={\"Low.2018\":name})\n",
    "    else:\n",
    "        act = act.join(group.set_index(\"Year\")[[\"Low.2018\"]].rename(columns={\"Low.2018\":name}))\n",
    "\n",
    "act.head()\n"
   ]
  },
  {
   "cell_type": "code",
   "execution_count": 19,
   "id": "effb6f70",
   "metadata": {},
   "outputs": [
    {
     "data": {
      "text/html": [
       "<div>\n",
       "<style scoped>\n",
       "    .dataframe tbody tr th:only-of-type {\n",
       "        vertical-align: middle;\n",
       "    }\n",
       "\n",
       "    .dataframe tbody tr th {\n",
       "        vertical-align: top;\n",
       "    }\n",
       "\n",
       "    .dataframe thead th {\n",
       "        text-align: right;\n",
       "    }\n",
       "</style>\n",
       "<table border=\"1\" class=\"dataframe\">\n",
       "  <thead>\n",
       "    <tr style=\"text-align: right;\">\n",
       "      <th></th>\n",
       "      <th>Alaska</th>\n",
       "      <th>Arkansas</th>\n",
       "      <th>California</th>\n",
       "      <th>Colorado</th>\n",
       "      <th>Connecticut</th>\n",
       "      <th>Delaware</th>\n",
       "      <th>District of Columbia</th>\n",
       "      <th>Federal (FLSA)</th>\n",
       "      <th>Guam</th>\n",
       "      <th>Hawaii</th>\n",
       "      <th>...</th>\n",
       "      <th>Pennsylvania</th>\n",
       "      <th>Puerto Rico</th>\n",
       "      <th>Rhode Island</th>\n",
       "      <th>South Dakota</th>\n",
       "      <th>Utah</th>\n",
       "      <th>Vermont</th>\n",
       "      <th>Washington</th>\n",
       "      <th>West Virginia</th>\n",
       "      <th>Wisconsin</th>\n",
       "      <th>Wyoming</th>\n",
       "    </tr>\n",
       "    <tr>\n",
       "      <th>Year</th>\n",
       "      <th></th>\n",
       "      <th></th>\n",
       "      <th></th>\n",
       "      <th></th>\n",
       "      <th></th>\n",
       "      <th></th>\n",
       "      <th></th>\n",
       "      <th></th>\n",
       "      <th></th>\n",
       "      <th></th>\n",
       "      <th></th>\n",
       "      <th></th>\n",
       "      <th></th>\n",
       "      <th></th>\n",
       "      <th></th>\n",
       "      <th></th>\n",
       "      <th></th>\n",
       "      <th></th>\n",
       "      <th></th>\n",
       "      <th></th>\n",
       "      <th></th>\n",
       "    </tr>\n",
       "  </thead>\n",
       "  <tbody>\n",
       "    <tr>\n",
       "      <th>1968</th>\n",
       "      <td>15.12</td>\n",
       "      <td>1.12</td>\n",
       "      <td>11.88</td>\n",
       "      <td>7.20</td>\n",
       "      <td>10.08</td>\n",
       "      <td>9.00</td>\n",
       "      <td>9.00</td>\n",
       "      <td>8.28</td>\n",
       "      <td>9.00</td>\n",
       "      <td>9.00</td>\n",
       "      <td>...</td>\n",
       "      <td>8.28</td>\n",
       "      <td>3.10</td>\n",
       "      <td>10.08</td>\n",
       "      <td>3.06</td>\n",
       "      <td>7.20</td>\n",
       "      <td>10.08</td>\n",
       "      <td>11.52</td>\n",
       "      <td>7.20</td>\n",
       "      <td>9.00</td>\n",
       "      <td>8.64</td>\n",
       "    </tr>\n",
       "    <tr>\n",
       "      <th>1969</th>\n",
       "      <td>14.33</td>\n",
       "      <td>1.07</td>\n",
       "      <td>11.26</td>\n",
       "      <td>6.83</td>\n",
       "      <td>9.56</td>\n",
       "      <td>8.53</td>\n",
       "      <td>8.53</td>\n",
       "      <td>7.85</td>\n",
       "      <td>8.53</td>\n",
       "      <td>8.53</td>\n",
       "      <td>...</td>\n",
       "      <td>7.85</td>\n",
       "      <td>2.94</td>\n",
       "      <td>9.56</td>\n",
       "      <td>2.90</td>\n",
       "      <td>6.83</td>\n",
       "      <td>9.56</td>\n",
       "      <td>10.92</td>\n",
       "      <td>6.83</td>\n",
       "      <td>8.53</td>\n",
       "      <td>8.19</td>\n",
       "    </tr>\n",
       "    <tr>\n",
       "      <th>1970</th>\n",
       "      <td>13.54</td>\n",
       "      <td>7.09</td>\n",
       "      <td>10.64</td>\n",
       "      <td>6.45</td>\n",
       "      <td>10.32</td>\n",
       "      <td>8.06</td>\n",
       "      <td>10.32</td>\n",
       "      <td>8.38</td>\n",
       "      <td>10.32</td>\n",
       "      <td>10.32</td>\n",
       "      <td>...</td>\n",
       "      <td>8.38</td>\n",
       "      <td>2.77</td>\n",
       "      <td>10.32</td>\n",
       "      <td>6.45</td>\n",
       "      <td>6.45</td>\n",
       "      <td>10.32</td>\n",
       "      <td>10.32</td>\n",
       "      <td>6.45</td>\n",
       "      <td>8.38</td>\n",
       "      <td>8.38</td>\n",
       "    </tr>\n",
       "    <tr>\n",
       "      <th>1971</th>\n",
       "      <td>12.99</td>\n",
       "      <td>6.80</td>\n",
       "      <td>10.20</td>\n",
       "      <td>6.18</td>\n",
       "      <td>9.89</td>\n",
       "      <td>7.73</td>\n",
       "      <td>9.89</td>\n",
       "      <td>8.04</td>\n",
       "      <td>9.89</td>\n",
       "      <td>9.89</td>\n",
       "      <td>...</td>\n",
       "      <td>8.04</td>\n",
       "      <td>2.66</td>\n",
       "      <td>9.89</td>\n",
       "      <td>6.18</td>\n",
       "      <td>6.18</td>\n",
       "      <td>9.89</td>\n",
       "      <td>9.89</td>\n",
       "      <td>6.18</td>\n",
       "      <td>8.04</td>\n",
       "      <td>8.04</td>\n",
       "    </tr>\n",
       "    <tr>\n",
       "      <th>1972</th>\n",
       "      <td>12.57</td>\n",
       "      <td>7.19</td>\n",
       "      <td>9.88</td>\n",
       "      <td>5.99</td>\n",
       "      <td>11.08</td>\n",
       "      <td>9.58</td>\n",
       "      <td>9.58</td>\n",
       "      <td>9.58</td>\n",
       "      <td>11.38</td>\n",
       "      <td>9.58</td>\n",
       "      <td>...</td>\n",
       "      <td>9.58</td>\n",
       "      <td>3.89</td>\n",
       "      <td>9.58</td>\n",
       "      <td>5.99</td>\n",
       "      <td>7.19</td>\n",
       "      <td>9.58</td>\n",
       "      <td>9.58</td>\n",
       "      <td>7.19</td>\n",
       "      <td>8.68</td>\n",
       "      <td>8.98</td>\n",
       "    </tr>\n",
       "  </tbody>\n",
       "</table>\n",
       "<p>5 rows × 39 columns</p>\n",
       "</div>"
      ],
      "text/plain": [
       "      Alaska  Arkansas  California  Colorado  Connecticut  Delaware  \\\n",
       "Year                                                                  \n",
       "1968   15.12      1.12       11.88      7.20        10.08      9.00   \n",
       "1969   14.33      1.07       11.26      6.83         9.56      8.53   \n",
       "1970   13.54      7.09       10.64      6.45        10.32      8.06   \n",
       "1971   12.99      6.80       10.20      6.18         9.89      7.73   \n",
       "1972   12.57      7.19        9.88      5.99        11.08      9.58   \n",
       "\n",
       "      District of Columbia  Federal (FLSA)   Guam  Hawaii  ...  Pennsylvania  \\\n",
       "Year                                                       ...                 \n",
       "1968                  9.00            8.28   9.00    9.00  ...          8.28   \n",
       "1969                  8.53            7.85   8.53    8.53  ...          7.85   \n",
       "1970                 10.32            8.38  10.32   10.32  ...          8.38   \n",
       "1971                  9.89            8.04   9.89    9.89  ...          8.04   \n",
       "1972                  9.58            9.58  11.38    9.58  ...          9.58   \n",
       "\n",
       "      Puerto Rico  Rhode Island  South Dakota  Utah  Vermont  Washington  \\\n",
       "Year                                                                       \n",
       "1968         3.10         10.08          3.06  7.20    10.08       11.52   \n",
       "1969         2.94          9.56          2.90  6.83     9.56       10.92   \n",
       "1970         2.77         10.32          6.45  6.45    10.32       10.32   \n",
       "1971         2.66          9.89          6.18  6.18     9.89        9.89   \n",
       "1972         3.89          9.58          5.99  7.19     9.58        9.58   \n",
       "\n",
       "      West Virginia  Wisconsin  Wyoming  \n",
       "Year                                     \n",
       "1968           7.20       9.00     8.64  \n",
       "1969           6.83       8.53     8.19  \n",
       "1970           6.45       8.38     8.38  \n",
       "1971           6.18       8.04     8.04  \n",
       "1972           7.19       8.68     8.98  \n",
       "\n",
       "[5 rows x 39 columns]"
      ]
     },
     "execution_count": 19,
     "metadata": {},
     "output_type": "execute_result"
    }
   ],
   "source": [
    "act = act.replace(0, np.NaN).dropna(axis=1)\n",
    "act.head()"
   ]
  },
  {
   "cell_type": "code",
   "execution_count": 20,
   "id": "94cc556b",
   "metadata": {},
   "outputs": [],
   "source": [
    "#Function to get unemployment data as per year and state\n",
    "def get_min_wage(year, state):\n",
    "    try:\n",
    "        return act.loc[year][state]\n",
    "    except:\n",
    "        return np.NaN"
   ]
  },
  {
   "cell_type": "code",
   "execution_count": 21,
   "id": "684a7b2b",
   "metadata": {},
   "outputs": [
    {
     "data": {
      "text/plain": [
       "8.33"
      ]
     },
     "execution_count": 21,
     "metadata": {},
     "output_type": "execute_result"
    }
   ],
   "source": [
    "get_min_wage(2012, \"Colorado\")\n"
   ]
  },
  {
   "cell_type": "code",
   "execution_count": 22,
   "id": "79bf0509",
   "metadata": {},
   "outputs": [
    {
     "name": "stdout",
     "output_type": "stream",
     "text": [
      "Wall time: 2min 11s\n"
     ]
    }
   ],
   "source": [
    "%%time\n",
    "# time will give us the total time to perform some cell's operation.\n",
    "\n",
    "unemp['min_wage'] = list(map(get_min_wage, unemp['Year'], unemp['State']))"
   ]
  },
  {
   "cell_type": "code",
   "execution_count": 23,
   "id": "67ec91cd",
   "metadata": {},
   "outputs": [
    {
     "data": {
      "text/html": [
       "<div>\n",
       "<style scoped>\n",
       "    .dataframe tbody tr th:only-of-type {\n",
       "        vertical-align: middle;\n",
       "    }\n",
       "\n",
       "    .dataframe tbody tr th {\n",
       "        vertical-align: top;\n",
       "    }\n",
       "\n",
       "    .dataframe thead th {\n",
       "        text-align: right;\n",
       "    }\n",
       "</style>\n",
       "<table border=\"1\" class=\"dataframe\">\n",
       "  <thead>\n",
       "    <tr style=\"text-align: right;\">\n",
       "      <th></th>\n",
       "      <th>Rate</th>\n",
       "      <th>min_wage</th>\n",
       "    </tr>\n",
       "  </thead>\n",
       "  <tbody>\n",
       "    <tr>\n",
       "      <th>Rate</th>\n",
       "      <td>1.000000</td>\n",
       "      <td>0.153047</td>\n",
       "    </tr>\n",
       "    <tr>\n",
       "      <th>min_wage</th>\n",
       "      <td>0.153047</td>\n",
       "      <td>1.000000</td>\n",
       "    </tr>\n",
       "  </tbody>\n",
       "</table>\n",
       "</div>"
      ],
      "text/plain": [
       "              Rate  min_wage\n",
       "Rate      1.000000  0.153047\n",
       "min_wage  0.153047  1.000000"
      ]
     },
     "execution_count": 23,
     "metadata": {},
     "output_type": "execute_result"
    }
   ],
   "source": [
    "unemp[['Rate','min_wage']].corr()"
   ]
  },
  {
   "cell_type": "markdown",
   "id": "8c455245",
   "metadata": {},
   "source": [
    "renaming name of columns so that it matches with the name of other dataset we are using to join them."
   ]
  },
  {
   "cell_type": "code",
   "execution_count": 30,
   "id": "8fdfb470",
   "metadata": {},
   "outputs": [
    {
     "data": {
      "text/html": [
       "<div>\n",
       "<style scoped>\n",
       "    .dataframe tbody tr th:only-of-type {\n",
       "        vertical-align: middle;\n",
       "    }\n",
       "\n",
       "    .dataframe tbody tr th {\n",
       "        vertical-align: top;\n",
       "    }\n",
       "\n",
       "    .dataframe thead th {\n",
       "        text-align: right;\n",
       "    }\n",
       "</style>\n",
       "<table border=\"1\" class=\"dataframe\">\n",
       "  <thead>\n",
       "    <tr style=\"text-align: right;\">\n",
       "      <th></th>\n",
       "      <th>County</th>\n",
       "      <th>fips</th>\n",
       "      <th>cand</th>\n",
       "      <th>State</th>\n",
       "      <th>pct_report</th>\n",
       "      <th>votes</th>\n",
       "      <th>total_votes</th>\n",
       "      <th>pct</th>\n",
       "      <th>lead</th>\n",
       "    </tr>\n",
       "  </thead>\n",
       "  <tbody>\n",
       "    <tr>\n",
       "      <th>0</th>\n",
       "      <td>NaN</td>\n",
       "      <td>US</td>\n",
       "      <td>Donald Trump</td>\n",
       "      <td>US</td>\n",
       "      <td>0.9951</td>\n",
       "      <td>60350241.0</td>\n",
       "      <td>127592176.0</td>\n",
       "      <td>0.472993</td>\n",
       "      <td>Donald Trump</td>\n",
       "    </tr>\n",
       "    <tr>\n",
       "      <th>1</th>\n",
       "      <td>NaN</td>\n",
       "      <td>US</td>\n",
       "      <td>Hillary Clinton</td>\n",
       "      <td>US</td>\n",
       "      <td>0.9951</td>\n",
       "      <td>60981118.0</td>\n",
       "      <td>127592176.0</td>\n",
       "      <td>0.477938</td>\n",
       "      <td>Donald Trump</td>\n",
       "    </tr>\n",
       "    <tr>\n",
       "      <th>2</th>\n",
       "      <td>NaN</td>\n",
       "      <td>US</td>\n",
       "      <td>Gary Johnson</td>\n",
       "      <td>US</td>\n",
       "      <td>0.9951</td>\n",
       "      <td>4164589.0</td>\n",
       "      <td>127592176.0</td>\n",
       "      <td>0.032640</td>\n",
       "      <td>Donald Trump</td>\n",
       "    </tr>\n",
       "    <tr>\n",
       "      <th>3</th>\n",
       "      <td>NaN</td>\n",
       "      <td>US</td>\n",
       "      <td>Jill Stein</td>\n",
       "      <td>US</td>\n",
       "      <td>0.9951</td>\n",
       "      <td>1255968.0</td>\n",
       "      <td>127592176.0</td>\n",
       "      <td>0.009844</td>\n",
       "      <td>Donald Trump</td>\n",
       "    </tr>\n",
       "    <tr>\n",
       "      <th>4</th>\n",
       "      <td>NaN</td>\n",
       "      <td>US</td>\n",
       "      <td>Evan McMullin</td>\n",
       "      <td>US</td>\n",
       "      <td>0.9951</td>\n",
       "      <td>451636.0</td>\n",
       "      <td>127592176.0</td>\n",
       "      <td>0.003540</td>\n",
       "      <td>Donald Trump</td>\n",
       "    </tr>\n",
       "  </tbody>\n",
       "</table>\n",
       "</div>"
      ],
      "text/plain": [
       "  County fips             cand State  pct_report       votes  total_votes  \\\n",
       "0    NaN   US     Donald Trump    US      0.9951  60350241.0  127592176.0   \n",
       "1    NaN   US  Hillary Clinton    US      0.9951  60981118.0  127592176.0   \n",
       "2    NaN   US     Gary Johnson    US      0.9951   4164589.0  127592176.0   \n",
       "3    NaN   US       Jill Stein    US      0.9951   1255968.0  127592176.0   \n",
       "4    NaN   US    Evan McMullin    US      0.9951    451636.0  127592176.0   \n",
       "\n",
       "        pct          lead  \n",
       "0  0.472993  Donald Trump  \n",
       "1  0.477938  Donald Trump  \n",
       "2  0.032640  Donald Trump  \n",
       "3  0.009844  Donald Trump  \n",
       "4  0.003540  Donald Trump  "
      ]
     },
     "execution_count": 30,
     "metadata": {},
     "output_type": "execute_result"
    }
   ],
   "source": [
    "election.rename(columns={\"county\": \"County\", \"st\": \"State\"}, inplace=True)\n",
    "election.head()"
   ]
  },
  {
   "cell_type": "markdown",
   "id": "c196064f",
   "metadata": {},
   "source": [
    "unemployment data of all county for the year 2015, month Feb"
   ]
  },
  {
   "cell_type": "code",
   "execution_count": 31,
   "id": "6046840c",
   "metadata": {},
   "outputs": [],
   "source": [
    "county15 = unemp[ (unemp['Year']==2015) & (unemp[\"Month\"]==\"February\")]"
   ]
  },
  {
   "cell_type": "code",
   "execution_count": 32,
   "id": "e4fb5edc",
   "metadata": {},
   "outputs": [
    {
     "data": {
      "text/html": [
       "<div>\n",
       "<style scoped>\n",
       "    .dataframe tbody tr th:only-of-type {\n",
       "        vertical-align: middle;\n",
       "    }\n",
       "\n",
       "    .dataframe tbody tr th {\n",
       "        vertical-align: top;\n",
       "    }\n",
       "\n",
       "    .dataframe thead th {\n",
       "        text-align: right;\n",
       "    }\n",
       "</style>\n",
       "<table border=\"1\" class=\"dataframe\">\n",
       "  <thead>\n",
       "    <tr style=\"text-align: right;\">\n",
       "      <th></th>\n",
       "      <th>Year</th>\n",
       "      <th>Month</th>\n",
       "      <th>State</th>\n",
       "      <th>County</th>\n",
       "      <th>Rate</th>\n",
       "      <th>min_wage</th>\n",
       "    </tr>\n",
       "  </thead>\n",
       "  <tbody>\n",
       "    <tr>\n",
       "      <th>0</th>\n",
       "      <td>2015</td>\n",
       "      <td>February</td>\n",
       "      <td>Mississippi</td>\n",
       "      <td>Newton County</td>\n",
       "      <td>6.1</td>\n",
       "      <td>NaN</td>\n",
       "    </tr>\n",
       "    <tr>\n",
       "      <th>1</th>\n",
       "      <td>2015</td>\n",
       "      <td>February</td>\n",
       "      <td>Mississippi</td>\n",
       "      <td>Panola County</td>\n",
       "      <td>9.4</td>\n",
       "      <td>NaN</td>\n",
       "    </tr>\n",
       "    <tr>\n",
       "      <th>2</th>\n",
       "      <td>2015</td>\n",
       "      <td>February</td>\n",
       "      <td>Mississippi</td>\n",
       "      <td>Monroe County</td>\n",
       "      <td>7.9</td>\n",
       "      <td>NaN</td>\n",
       "    </tr>\n",
       "    <tr>\n",
       "      <th>3</th>\n",
       "      <td>2015</td>\n",
       "      <td>February</td>\n",
       "      <td>Mississippi</td>\n",
       "      <td>Hinds County</td>\n",
       "      <td>6.1</td>\n",
       "      <td>NaN</td>\n",
       "    </tr>\n",
       "    <tr>\n",
       "      <th>4</th>\n",
       "      <td>2015</td>\n",
       "      <td>February</td>\n",
       "      <td>Mississippi</td>\n",
       "      <td>Kemper County</td>\n",
       "      <td>10.6</td>\n",
       "      <td>NaN</td>\n",
       "    </tr>\n",
       "  </tbody>\n",
       "</table>\n",
       "</div>"
      ],
      "text/plain": [
       "   Year     Month        State         County  Rate  min_wage\n",
       "0  2015  February  Mississippi  Newton County   6.1       NaN\n",
       "1  2015  February  Mississippi  Panola County   9.4       NaN\n",
       "2  2015  February  Mississippi  Monroe County   7.9       NaN\n",
       "3  2015  February  Mississippi   Hinds County   6.1       NaN\n",
       "4  2015  February  Mississippi  Kemper County  10.6       NaN"
      ]
     },
     "execution_count": 32,
     "metadata": {},
     "output_type": "execute_result"
    }
   ],
   "source": [
    "county15.head()"
   ]
  },
  {
   "cell_type": "markdown",
   "id": "07a60fc2",
   "metadata": {},
   "source": [
    "Changing the abbrevation for the by importing CSV file for all the abbrevation"
   ]
  },
  {
   "cell_type": "code",
   "execution_count": 33,
   "id": "f414dc17",
   "metadata": {},
   "outputs": [
    {
     "data": {
      "text/html": [
       "<div>\n",
       "<style scoped>\n",
       "    .dataframe tbody tr th:only-of-type {\n",
       "        vertical-align: middle;\n",
       "    }\n",
       "\n",
       "    .dataframe tbody tr th {\n",
       "        vertical-align: top;\n",
       "    }\n",
       "\n",
       "    .dataframe thead th {\n",
       "        text-align: right;\n",
       "    }\n",
       "</style>\n",
       "<table border=\"1\" class=\"dataframe\">\n",
       "  <thead>\n",
       "    <tr style=\"text-align: right;\">\n",
       "      <th></th>\n",
       "      <th>Postal Code</th>\n",
       "    </tr>\n",
       "    <tr>\n",
       "      <th>State/District</th>\n",
       "      <th></th>\n",
       "    </tr>\n",
       "  </thead>\n",
       "  <tbody>\n",
       "    <tr>\n",
       "      <th>Alabama</th>\n",
       "      <td>AL</td>\n",
       "    </tr>\n",
       "    <tr>\n",
       "      <th>Alaska</th>\n",
       "      <td>AK</td>\n",
       "    </tr>\n",
       "    <tr>\n",
       "      <th>Arizona</th>\n",
       "      <td>AZ</td>\n",
       "    </tr>\n",
       "    <tr>\n",
       "      <th>Arkansas</th>\n",
       "      <td>AR</td>\n",
       "    </tr>\n",
       "    <tr>\n",
       "      <th>California</th>\n",
       "      <td>CA</td>\n",
       "    </tr>\n",
       "  </tbody>\n",
       "</table>\n",
       "</div>"
      ],
      "text/plain": [
       "               Postal Code\n",
       "State/District            \n",
       "Alabama                 AL\n",
       "Alaska                  AK\n",
       "Arizona                 AZ\n",
       "Arkansas                AR\n",
       "California              CA"
      ]
     },
     "execution_count": 33,
     "metadata": {},
     "output_type": "execute_result"
    }
   ],
   "source": [
    "state_abbv = pd.read_csv(\"./state_abbv.csv\", index_col=0)\n",
    "state_abbv.head()"
   ]
  },
  {
   "cell_type": "markdown",
   "id": "bf947ff5",
   "metadata": {},
   "source": [
    "convert the State to the all-caps abbreviation and mapping them to county15"
   ]
  },
  {
   "cell_type": "code",
   "execution_count": 34,
   "id": "39f150c5",
   "metadata": {},
   "outputs": [
    {
     "name": "stderr",
     "output_type": "stream",
     "text": [
      "C:\\Users\\Dishant\\AppData\\Local\\Temp/ipykernel_1400/3138682014.py:2: SettingWithCopyWarning: \n",
      "A value is trying to be set on a copy of a slice from a DataFrame.\n",
      "Try using .loc[row_indexer,col_indexer] = value instead\n",
      "\n",
      "See the caveats in the documentation: https://pandas.pydata.org/pandas-docs/stable/user_guide/indexing.html#returning-a-view-versus-a-copy\n",
      "  county_2015['State'] = county_2015['State'].map(state_abbv_dict)\n"
     ]
    }
   ],
   "source": [
    "state_abbv_dict = state_abbv.to_dict()['Postal Code']\n",
    "county15['State'] = county15['State'].map(state_abbv_dict)"
   ]
  },
  {
   "cell_type": "code",
   "execution_count": 35,
   "id": "dad9b893",
   "metadata": {},
   "outputs": [
    {
     "data": {
      "text/html": [
       "<div>\n",
       "<style scoped>\n",
       "    .dataframe tbody tr th:only-of-type {\n",
       "        vertical-align: middle;\n",
       "    }\n",
       "\n",
       "    .dataframe tbody tr th {\n",
       "        vertical-align: top;\n",
       "    }\n",
       "\n",
       "    .dataframe thead th {\n",
       "        text-align: right;\n",
       "    }\n",
       "</style>\n",
       "<table border=\"1\" class=\"dataframe\">\n",
       "  <thead>\n",
       "    <tr style=\"text-align: right;\">\n",
       "      <th></th>\n",
       "      <th>Year</th>\n",
       "      <th>Month</th>\n",
       "      <th>State</th>\n",
       "      <th>County</th>\n",
       "      <th>Rate</th>\n",
       "      <th>min_wage</th>\n",
       "    </tr>\n",
       "  </thead>\n",
       "  <tbody>\n",
       "    <tr>\n",
       "      <th>2797</th>\n",
       "      <td>2015</td>\n",
       "      <td>February</td>\n",
       "      <td>ME</td>\n",
       "      <td>Somerset County</td>\n",
       "      <td>8.4</td>\n",
       "      <td>7.92</td>\n",
       "    </tr>\n",
       "    <tr>\n",
       "      <th>2798</th>\n",
       "      <td>2015</td>\n",
       "      <td>February</td>\n",
       "      <td>ME</td>\n",
       "      <td>Oxford County</td>\n",
       "      <td>6.8</td>\n",
       "      <td>7.92</td>\n",
       "    </tr>\n",
       "    <tr>\n",
       "      <th>2799</th>\n",
       "      <td>2015</td>\n",
       "      <td>February</td>\n",
       "      <td>ME</td>\n",
       "      <td>Knox County</td>\n",
       "      <td>6.1</td>\n",
       "      <td>7.92</td>\n",
       "    </tr>\n",
       "    <tr>\n",
       "      <th>2800</th>\n",
       "      <td>2015</td>\n",
       "      <td>February</td>\n",
       "      <td>ME</td>\n",
       "      <td>Piscataquis County</td>\n",
       "      <td>7.0</td>\n",
       "      <td>7.92</td>\n",
       "    </tr>\n",
       "    <tr>\n",
       "      <th>2801</th>\n",
       "      <td>2015</td>\n",
       "      <td>February</td>\n",
       "      <td>ME</td>\n",
       "      <td>Aroostook County</td>\n",
       "      <td>7.2</td>\n",
       "      <td>7.92</td>\n",
       "    </tr>\n",
       "  </tbody>\n",
       "</table>\n",
       "</div>"
      ],
      "text/plain": [
       "      Year     Month State              County  Rate  min_wage\n",
       "2797  2015  February    ME     Somerset County   8.4      7.92\n",
       "2798  2015  February    ME       Oxford County   6.8      7.92\n",
       "2799  2015  February    ME         Knox County   6.1      7.92\n",
       "2800  2015  February    ME  Piscataquis County   7.0      7.92\n",
       "2801  2015  February    ME    Aroostook County   7.2      7.92"
      ]
     },
     "execution_count": 35,
     "metadata": {},
     "output_type": "execute_result"
    }
   ],
   "source": [
    "county15.tail()"
   ]
  },
  {
   "cell_type": "markdown",
   "id": "967143cc",
   "metadata": {},
   "source": [
    "Since election dataset is longer, we'll map that to county_15, where there are matches. Getting data for cand \"Donald Trump\""
   ]
  },
  {
   "cell_type": "code",
   "execution_count": 36,
   "id": "e4ea18d9",
   "metadata": {},
   "outputs": [
    {
     "data": {
      "text/html": [
       "<div>\n",
       "<style scoped>\n",
       "    .dataframe tbody tr th:only-of-type {\n",
       "        vertical-align: middle;\n",
       "    }\n",
       "\n",
       "    .dataframe tbody tr th {\n",
       "        vertical-align: top;\n",
       "    }\n",
       "\n",
       "    .dataframe thead th {\n",
       "        text-align: right;\n",
       "    }\n",
       "</style>\n",
       "<table border=\"1\" class=\"dataframe\">\n",
       "  <thead>\n",
       "    <tr style=\"text-align: right;\">\n",
       "      <th></th>\n",
       "      <th></th>\n",
       "      <th>pct</th>\n",
       "    </tr>\n",
       "    <tr>\n",
       "      <th>County</th>\n",
       "      <th>State</th>\n",
       "      <th></th>\n",
       "    </tr>\n",
       "  </thead>\n",
       "  <tbody>\n",
       "    <tr>\n",
       "      <th rowspan=\"2\" valign=\"top\">NaN</th>\n",
       "      <th>US</th>\n",
       "      <td>0.472993</td>\n",
       "    </tr>\n",
       "    <tr>\n",
       "      <th>CA</th>\n",
       "      <td>0.330641</td>\n",
       "    </tr>\n",
       "  </tbody>\n",
       "</table>\n",
       "</div>"
      ],
      "text/plain": [
       "                   pct\n",
       "County State          \n",
       "NaN    US     0.472993\n",
       "       CA     0.330641"
      ]
     },
     "execution_count": 36,
     "metadata": {},
     "output_type": "execute_result"
    }
   ],
   "source": [
    "for df in [county15, election]:\n",
    "    df.set_index([\"County\", \"State\"], inplace=True)\n",
    "pres16 = election[election['cand']==\"Donald Trump\"]\n",
    "pres16 = pres16[['pct']]\n",
    "pres16.dropna(inplace=True)\n",
    "pres16.head(2)"
   ]
  },
  {
   "cell_type": "code",
   "execution_count": 37,
   "id": "e5e23f2e",
   "metadata": {},
   "outputs": [
    {
     "data": {
      "text/html": [
       "<div>\n",
       "<style scoped>\n",
       "    .dataframe tbody tr th:only-of-type {\n",
       "        vertical-align: middle;\n",
       "    }\n",
       "\n",
       "    .dataframe tbody tr th {\n",
       "        vertical-align: top;\n",
       "    }\n",
       "\n",
       "    .dataframe thead th {\n",
       "        text-align: right;\n",
       "    }\n",
       "</style>\n",
       "<table border=\"1\" class=\"dataframe\">\n",
       "  <thead>\n",
       "    <tr style=\"text-align: right;\">\n",
       "      <th></th>\n",
       "      <th></th>\n",
       "      <th>Year</th>\n",
       "      <th>Month</th>\n",
       "      <th>Rate</th>\n",
       "      <th>min_wage</th>\n",
       "    </tr>\n",
       "    <tr>\n",
       "      <th>County</th>\n",
       "      <th>State</th>\n",
       "      <th></th>\n",
       "      <th></th>\n",
       "      <th></th>\n",
       "      <th></th>\n",
       "    </tr>\n",
       "  </thead>\n",
       "  <tbody>\n",
       "    <tr>\n",
       "      <th>Newton County</th>\n",
       "      <th>MS</th>\n",
       "      <td>2015</td>\n",
       "      <td>February</td>\n",
       "      <td>6.1</td>\n",
       "      <td>NaN</td>\n",
       "    </tr>\n",
       "    <tr>\n",
       "      <th>Panola County</th>\n",
       "      <th>MS</th>\n",
       "      <td>2015</td>\n",
       "      <td>February</td>\n",
       "      <td>9.4</td>\n",
       "      <td>NaN</td>\n",
       "    </tr>\n",
       "  </tbody>\n",
       "</table>\n",
       "</div>"
      ],
      "text/plain": [
       "                     Year     Month  Rate  min_wage\n",
       "County        State                                \n",
       "Newton County MS     2015  February   6.1       NaN\n",
       "Panola County MS     2015  February   9.4       NaN"
      ]
     },
     "execution_count": 37,
     "metadata": {},
     "output_type": "execute_result"
    }
   ],
   "source": [
    "county15.head(2)"
   ]
  },
  {
   "cell_type": "markdown",
   "id": "44e68f69",
   "metadata": {},
   "source": [
    "finding correlation by merging the matched columns from \"County\" & \"State\""
   ]
  },
  {
   "cell_type": "code",
   "execution_count": 38,
   "id": "7c52b708",
   "metadata": {},
   "outputs": [
    {
     "data": {
      "text/html": [
       "<div>\n",
       "<style scoped>\n",
       "    .dataframe tbody tr th:only-of-type {\n",
       "        vertical-align: middle;\n",
       "    }\n",
       "\n",
       "    .dataframe tbody tr th {\n",
       "        vertical-align: top;\n",
       "    }\n",
       "\n",
       "    .dataframe thead th {\n",
       "        text-align: right;\n",
       "    }\n",
       "</style>\n",
       "<table border=\"1\" class=\"dataframe\">\n",
       "  <thead>\n",
       "    <tr style=\"text-align: right;\">\n",
       "      <th></th>\n",
       "      <th></th>\n",
       "      <th>Month</th>\n",
       "      <th>Rate</th>\n",
       "      <th>min_wage</th>\n",
       "      <th>pct</th>\n",
       "    </tr>\n",
       "    <tr>\n",
       "      <th>County</th>\n",
       "      <th>State</th>\n",
       "      <th></th>\n",
       "      <th></th>\n",
       "      <th></th>\n",
       "      <th></th>\n",
       "    </tr>\n",
       "  </thead>\n",
       "  <tbody>\n",
       "    <tr>\n",
       "      <th>Major County</th>\n",
       "      <th>OK</th>\n",
       "      <td>February</td>\n",
       "      <td>2.6</td>\n",
       "      <td>2.11</td>\n",
       "      <td>0.864960</td>\n",
       "    </tr>\n",
       "    <tr>\n",
       "      <th>Pottawatomie County</th>\n",
       "      <th>OK</th>\n",
       "      <td>February</td>\n",
       "      <td>4.5</td>\n",
       "      <td>2.11</td>\n",
       "      <td>0.701342</td>\n",
       "    </tr>\n",
       "    <tr>\n",
       "      <th>Johnston County</th>\n",
       "      <th>OK</th>\n",
       "      <td>February</td>\n",
       "      <td>6.5</td>\n",
       "      <td>2.11</td>\n",
       "      <td>0.770057</td>\n",
       "    </tr>\n",
       "    <tr>\n",
       "      <th>Jefferson County</th>\n",
       "      <th>OK</th>\n",
       "      <td>February</td>\n",
       "      <td>5.0</td>\n",
       "      <td>2.11</td>\n",
       "      <td>0.812367</td>\n",
       "    </tr>\n",
       "    <tr>\n",
       "      <th>Beaver County</th>\n",
       "      <th>OK</th>\n",
       "      <td>February</td>\n",
       "      <td>2.8</td>\n",
       "      <td>2.11</td>\n",
       "      <td>0.888243</td>\n",
       "    </tr>\n",
       "  </tbody>\n",
       "</table>\n",
       "</div>"
      ],
      "text/plain": [
       "                              Month  Rate  min_wage       pct\n",
       "County              State                                    \n",
       "Major County        OK     February   2.6      2.11  0.864960\n",
       "Pottawatomie County OK     February   4.5      2.11  0.701342\n",
       "Johnston County     OK     February   6.5      2.11  0.770057\n",
       "Jefferson County    OK     February   5.0      2.11  0.812367\n",
       "Beaver County       OK     February   2.8      2.11  0.888243"
      ]
     },
     "execution_count": 38,
     "metadata": {},
     "output_type": "execute_result"
    }
   ],
   "source": [
    "correl = county15.merge(pres16, on=[\"County\", \"State\"])\n",
    "correl.dropna(inplace=True)\n",
    "correl.drop(\"Year\", axis=1, inplace=True)\n",
    "correl.head()"
   ]
  },
  {
   "cell_type": "code",
   "execution_count": 40,
   "id": "89b89c5c",
   "metadata": {},
   "outputs": [
    {
     "data": {
      "text/html": [
       "<div>\n",
       "<style scoped>\n",
       "    .dataframe tbody tr th:only-of-type {\n",
       "        vertical-align: middle;\n",
       "    }\n",
       "\n",
       "    .dataframe tbody tr th {\n",
       "        vertical-align: top;\n",
       "    }\n",
       "\n",
       "    .dataframe thead th {\n",
       "        text-align: right;\n",
       "    }\n",
       "</style>\n",
       "<table border=\"1\" class=\"dataframe\">\n",
       "  <thead>\n",
       "    <tr style=\"text-align: right;\">\n",
       "      <th></th>\n",
       "      <th>Rate</th>\n",
       "      <th>min_wage</th>\n",
       "      <th>pct</th>\n",
       "    </tr>\n",
       "  </thead>\n",
       "  <tbody>\n",
       "    <tr>\n",
       "      <th>Rate</th>\n",
       "      <td>1.000000</td>\n",
       "      <td>0.186689</td>\n",
       "      <td>-0.085985</td>\n",
       "    </tr>\n",
       "    <tr>\n",
       "      <th>min_wage</th>\n",
       "      <td>0.186689</td>\n",
       "      <td>1.000000</td>\n",
       "      <td>-0.325036</td>\n",
       "    </tr>\n",
       "    <tr>\n",
       "      <th>pct</th>\n",
       "      <td>-0.085985</td>\n",
       "      <td>-0.325036</td>\n",
       "      <td>1.000000</td>\n",
       "    </tr>\n",
       "  </tbody>\n",
       "</table>\n",
       "</div>"
      ],
      "text/plain": [
       "              Rate  min_wage       pct\n",
       "Rate      1.000000  0.186689 -0.085985\n",
       "min_wage  0.186689  1.000000 -0.325036\n",
       "pct      -0.085985 -0.325036  1.000000"
      ]
     },
     "execution_count": 40,
     "metadata": {},
     "output_type": "execute_result"
    }
   ],
   "source": [
    "correl.corr()"
   ]
  },
  {
   "cell_type": "code",
   "execution_count": 45,
   "id": "beedde3a",
   "metadata": {},
   "outputs": [
    {
     "data": {
      "image/png": "[encoded data removed]",
      "text/plain": [
       "<Figure size 432x288 with 2 Axes>"
      ]
     },
     "metadata": {
      "needs_background": "light"
     },
     "output_type": "display_data"
    }
   ],
   "source": [
    "#Visualizing the correlation between the presidential percentage, minimun wage and the unemployment rate in USA\n",
    "import seaborn as sns\n",
    "dataplot = sns.heatmap(correl.corr(), cmap=\"YlGnBu\", annot=True)\n",
    "plt.show()"
   ]
  },
  {
   "cell_type": "markdown",
   "id": "849266d2",
   "metadata": {},
   "source": [
    "Surprisingly, min wage appears to have a negative relationship with Trump's percentage vote, implying that as the minimum wage rises, individuals are less likely to vote for Trump.\n",
    "Also Colorado has the highest unemployment rate whereas it also has the highest percentage of voters with Donald Trump leading in votes."
   ]
  },
  {
   "cell_type": "markdown",
   "id": "671a9fbc",
   "metadata": {},
   "source": [
    "References:\n",
    "    https://matplotlib.org/stable/tutorials/introductory/pyplot.html\n",
    "    https://www.geeksforgeeks.org/how-to-create-a-seaborn-correlation-heatmap-in-python/\n",
    "    https://www.programiz.com/python-programming/methods/built-in/map"
   ]
  }
 ],
 "metadata": {
  "kernelspec": {
   "display_name": "Python 3 (ipykernel)",
   "language": "python",
   "name": "python3"
  },
  "language_info": {
   "codemirror_mode": {
    "name": "ipython",
    "version": 3
   },
   "file_extension": ".py",
   "mimetype": "text/x-python",
   "name": "python",
   "nbconvert_exporter": "python",
   "pygments_lexer": "ipython3",
   "version": "3.9.7"
  }
 },
 "nbformat": 4,
 "nbformat_minor": 5
}
